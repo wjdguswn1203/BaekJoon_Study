{
  "nbformat": 4,
  "nbformat_minor": 0,
  "metadata": {
    "colab": {
      "provenance": [],
      "authorship_tag": "ABX9TyNMh1GhYgdK8obR5faMvjvZ",
      "include_colab_link": true
    },
    "kernelspec": {
      "name": "python3",
      "display_name": "Python 3"
    },
    "language_info": {
      "name": "python"
    }
  },
  "cells": [
    {
      "cell_type": "markdown",
      "metadata": {
        "id": "view-in-github",
        "colab_type": "text"
      },
      "source": [
        "<a href=\"https://colab.research.google.com/github/wjdguswn1203/BaekJoon_Study/blob/main/%EB%B0%B1%EC%A4%80_10828.ipynb\" target=\"_parent\"><img src=\"https://colab.research.google.com/assets/colab-badge.svg\" alt=\"Open In Colab\"/></a>"
      ]
    },
    {
      "cell_type": "code",
      "execution_count": 20,
      "metadata": {
        "colab": {
          "base_uri": "https://localhost:8080/"
        },
        "id": "qNBmK3LuGF_o",
        "outputId": "1bbbc583-2f9a-48bb-d434-873bb745ccf1"
      },
      "outputs": [
        {
          "output_type": "stream",
          "name": "stdout",
          "text": [
            "14\n",
            "push 1\n",
            "push 2\n",
            "top\n",
            "size\n",
            "empty\n",
            "pop\n",
            "pop\n",
            "pop\n",
            "size\n",
            "empty\n",
            "pop\n",
            "push 3\n",
            "empty\n",
            "top\n",
            "2\n",
            "2\n",
            "0\n",
            "2\n",
            "1\n",
            "-1\n",
            "0\n",
            "1\n",
            "-1\n",
            "0\n",
            "3\n"
          ]
        }
      ],
      "source": [
        "# 스택\n",
        "def push(n):\n",
        "  stack.append(n)\n",
        "def pop():\n",
        "  if len(stack) == 0:\n",
        "    print(\"-1\")\n",
        "  else:\n",
        "    print(stack[-1])\n",
        "    stack.pop()\n",
        "def size():\n",
        "  print(len(stack))\n",
        "def empty():\n",
        "  if len(stack) == 0:\n",
        "    print(\"1\")\n",
        "  else:\n",
        "    print(\"0\")\n",
        "def top():\n",
        "  if len(stack) == 0:\n",
        "    print(\"-1\")\n",
        "  else:\n",
        "    print(stack[-1])\n",
        "\n",
        "stack = []\n",
        "n_list = []\n",
        "command_num = int(input())\n",
        "for cmd in range(command_num):\n",
        "  n_list.append(input())\n",
        "\n",
        "for i in range(len(n_list)):\n",
        "  cmd_list = n_list[i].split(\" \")\n",
        "  if cmd_list[0] == \"push\":\n",
        "    push(int(cmd_list[1]))\n",
        "  if cmd_list[0] == \"pop\":\n",
        "    pop()\n",
        "  if cmd_list[0] == \"size\":\n",
        "    size()\n",
        "  if cmd_list[0] == \"empty\":\n",
        "    empty()\n",
        "  if cmd_list[0] == \"top\":\n",
        "    top()\n",
        ""
      ]
    }
  ]
}